{
 "cells": [
  {
   "attachments": {},
   "cell_type": "markdown",
   "metadata": {},
   "source": [
    "# Import Libraries"
   ]
  },
  {
   "cell_type": "code",
   "execution_count": 2,
   "metadata": {},
   "outputs": [],
   "source": [
    "import torch.nn as nn\n",
    "import torch.nn.functional as F\n",
    "import torch\n",
    "import torch.optim as optim\n",
    "import numpy as np\n",
    "import pandas as pd\n",
    "import matplotlib.pyplot as plt\n",
    "import sklearn.feature_selection as fs\n",
    "from sklearn.ensemble import RandomForestRegressor, RandomForestClassifier, StackingClassifier, GradientBoostingClassifier, BaggingClassifier\n",
    "from sklearn.neural_network import MLPClassifier\n",
    "from sklearn.model_selection import train_test_split\n",
    "import sklearn.preprocessing as preprocessing\n",
    "from sklearn.metrics import confusion_matrix, mean_absolute_error, mean_squared_error, f1_score, roc_auc_score\n",
    "from torch.utils.data import Dataset, DataLoader\n",
    "from torch.nn.functional import normalize\n",
    "import math\n",
    "from mpl_toolkits.mplot3d import Axes3D\n",
    "from sklearn.model_selection import KFold\n",
    "from sklearn.svm import SVC, NuSVC\n",
    "from sklearn.pipeline import make_pipeline"
   ]
  },
  {
   "cell_type": "code",
   "execution_count": 3,
   "metadata": {},
   "outputs": [
    {
     "name": "stdout",
     "output_type": "stream",
     "text": [
      "141431\n"
     ]
    }
   ],
   "source": [
    "data = pd.read_csv(\"../../../../../../Downloads/UKRiverData.csv\")\n",
    "print(len(data))"
   ]
  },
  {
   "cell_type": "code",
   "execution_count": 4,
   "metadata": {},
   "outputs": [
    {
     "data": {
      "text/plain": [
       "253752"
      ]
     },
     "execution_count": 4,
     "metadata": {},
     "output_type": "execute_result"
    }
   ],
   "source": [
    "weather = pd.read_csv(\"../../../../../../Downloads/archive.csv\")\n",
    "weather['time'] = pd.to_datetime(weather['time'])\n",
    "len(weather)"
   ]
  },
  {
   "attachments": {},
   "cell_type": "markdown",
   "metadata": {},
   "source": [
    "# Preprocessing"
   ]
  },
  {
   "cell_type": "code",
   "execution_count": 5,
   "metadata": {},
   "outputs": [
    {
     "name": "stdout",
     "output_type": "stream",
     "text": [
      "90393\n"
     ]
    }
   ],
   "source": [
    "data = data.dropna(subset=['DO_MGL', 'NH4_N_MGL', 'PH', 'NO2_N_MGL'])\n",
    "\n",
    "# Convert 'Date' and 'Time' columns to datetime\n",
    "data['Date'] = pd.to_datetime(data['Date'])\n",
    "data['Time'] = pd.to_datetime(data['Time'])\n",
    "\n",
    "# Combine 'Date' and 'Time' columns into 'DateTime' column\n",
    "data['DateTime'] = data['Date'] + pd.to_timedelta(data['Time'].dt.strftime('%H:%M:%S'))\n",
    "data = data.rename(columns={'DateTime': 'time'})\n",
    "data = data.drop_duplicates(subset=['time'])\n",
    "data['time'] = data['time'].dt.round('H')\n",
    "print(len(data))\n",
    "\n",
    "# Remove 'Date' and 'Time' columns if no longer needed\n",
    "data = data.drop(['Site_Code', 'Site_Status_21Oct2020', 'OBJECTID', 'Station_Name', 'RWB_ID_RBP2', 'FESOL1_UGL',\n",
    "                  'P_SOL_MGL', 'SS_MGL','ZN_SOL_UGL', 'GlobalID','Primary_Basin', 'Depth', 'ALK_MGL', 'BOD_MGL', \n",
    "                  'COND_USCM', 'CUSOL1_MGL', 'CUSOL2_UGL', 'Date', 'Time'], axis=1)\n",
    "\n",
    "# Combine the dataframs using merge function\n",
    "weather['time'] = weather['time'].dt.tz_localize('UTC')\n",
    "comb = pd.merge(data, weather, on=['time'], how='left')\n",
    "\n",
    "# Convert our problem to a classification problem\n",
    "comb['decreaseFeed'] = 1\n",
    "comb.loc[comb['NH4_N_MGL'] <= 0.05, 'decreaseFeed'] = 0\n",
    "\n",
    "# Smoothen the data\n",
    "comb = comb.drop(comb[comb['NH4_N_MGL'] < 0].index)"
   ]
  },
  {
   "cell_type": "code",
   "execution_count": 19,
   "metadata": {},
   "outputs": [],
   "source": [
    "# Convert our problem to a classification problem\n",
    "comb['decreaseFeed'] = 1\n",
    "comb.loc[comb['NH4_N_MGL'] <= 0.15, 'decreaseFeed'] = 0"
   ]
  },
  {
   "cell_type": "code",
   "execution_count": 6,
   "metadata": {},
   "outputs": [
    {
     "data": {
      "text/plain": [
       "\"\\n# randomly remove rows\\ncondition = comb['NH4_N_MGL'] < 0.2\\n\\n# Randomly select and remove 3 rows that satisfy the condition\\nnum_rows_to_remove = 30000\\nrows_to_remove = comb[condition].sample(n=num_rows_to_remove)\\ncomb = comb[~comb.index.isin(rows_to_remove.index)]\\n\""
      ]
     },
     "execution_count": 6,
     "metadata": {},
     "output_type": "execute_result"
    }
   ],
   "source": [
    "comb = comb.drop(comb[comb['NH4_N_MGL'] > 3].index)\n",
    "comb = comb.drop(comb[comb['NH4_N_MGL'] < 0].index)\n",
    "'''\n",
    "# randomly remove rows\n",
    "condition = comb['NH4_N_MGL'] < 0.2\n",
    "\n",
    "# Randomly select and remove 3 rows that satisfy the condition\n",
    "num_rows_to_remove = 30000\n",
    "rows_to_remove = comb[condition].sample(n=num_rows_to_remove)\n",
    "comb = comb[~comb.index.isin(rows_to_remove.index)]\n",
    "'''"
   ]
  },
  {
   "cell_type": "code",
   "execution_count": 9,
   "metadata": {},
   "outputs": [
    {
     "name": "stdout",
     "output_type": "stream",
     "text": [
      "79850\n",
      "10150\n"
     ]
    },
    {
     "data": {
      "image/png": "[encoded data removed]",
      "text/plain": [
       "<Figure size 640x480 with 1 Axes>"
      ]
     },
     "metadata": {},
     "output_type": "display_data"
    }
   ],
   "source": [
    "x = comb.sample(9000)\n",
    "dec = x[x['decreaseFeed'] == 1]\n",
    "print(len(dec) * 10)\n",
    "man = x[x['decreaseFeed'] == 0]\n",
    "print(len(man) * 10)\n",
    "plt.plot(man['NH4_N_MGL'], man['NH4_N_MGL'], 'ro')\n",
    "plt.plot(dec['NH4_N_MGL'], dec['NH4_N_MGL'], 'bo')\n",
    "plt.show()\n"
   ]
  },
  {
   "attachments": {},
   "cell_type": "markdown",
   "metadata": {},
   "source": [
    "# Feature Selection"
   ]
  },
  {
   "cell_type": "code",
   "execution_count": 96,
   "metadata": {},
   "outputs": [
    {
     "name": "stdout",
     "output_type": "stream",
     "text": [
      "[0.23896875 0.207959   0.18023651 0.19303237 0.17980338]\n"
     ]
    }
   ],
   "source": [
    "samp = comb.sample(10000)\n",
    "X = samp[['DO_MGL','PH','temperature_2m (°C)', 'pressure_msl (hPa)', 'diffuse_radiation (W/m²)']].values\n",
    "y = samp['decreaseFeed'].values\n",
    "regressor = RandomForestClassifier(n_estimators=50)\n",
    "regressor.fit(X, y)\n",
    "\n",
    "print(regressor.feature_importances_)"
   ]
  },
  {
   "attachments": {},
   "cell_type": "markdown",
   "metadata": {},
   "source": [
    "# Classification Methods"
   ]
  },
  {
   "cell_type": "code",
   "execution_count": 6,
   "metadata": {},
   "outputs": [],
   "source": [
    "# split testset into training and tetsing\n",
    "test = cis.copy(True)\n",
    "X_train,X_test,y_train,y_test = train_test_split(test[['DO_MGL','PH','precipitation (mm)','pressure_msl (hPa)', 'direct_radiation (W/m²)']], \n",
    "        test['decreaseFeed'], test_size=0.2)"
   ]
  },
  {
   "cell_type": "code",
   "execution_count": 9,
   "metadata": {},
   "outputs": [],
   "source": [
    "def stats(y_pred, y_test):\n",
    "    # add F1 score, ROC AUC\n",
    "    print(\"F1 Score: \", f1_score(y_test, y_pred))\n",
    "    print(\"ROC AUC Score: \", roc_auc_score(y_test, y_pred))\n",
    "\n",
    "    cm = confusion_matrix(y_test, y_pred)\n",
    "    print(cm)\n",
    "\n",
    "    tp = cm.data[0, 0]\n",
    "    tn = cm.data[0, 1]\n",
    "    fp = cm.data[1, 0]\n",
    "    fn = cm.data[1, 1]\n",
    "\n",
    "    print(\"Precision : \", tp/(tp + tn))\n",
    "    print(\"Recall: \", tp/(tp + fp))\n",
    "    print(\"Accuracy: \", (tp + fn)/(tp + tn + fp + fn))\n",
    "\n",
    "    # Calculate MAE\n",
    "    mae = mean_absolute_error(y_test, y_pred)\n",
    "\n",
    "    # Calculate RMSE\n",
    "    mse = mean_squared_error(y_test, y_pred, squared=False)\n",
    "\n",
    "    print(\"Mean Absolute Error (MAE):\", mae)\n",
    "    print(\"Root Mean Squared Error (RMSE):\", math.sqrt(mse))"
   ]
  },
  {
   "cell_type": "code",
   "execution_count": 13,
   "metadata": {},
   "outputs": [
    {
     "name": "stdout",
     "output_type": "stream",
     "text": [
      "F1 Score:  0.5734518844913054\n",
      "ROC AUC Score:  0.5707071421576654\n",
      "[[3563 2741]\n",
      " [2680 3644]]\n",
      "Precision :  0.5651967005076142\n",
      "Recall:  0.5707192055101714\n",
      "Accuracy:  0.5707158694963573\n",
      "Mean Absolute Error (MAE): 0.4292841305036427\n",
      "Root Mean Squared Error (RMSE): 0.8094428822867059\n"
     ]
    }
   ],
   "source": [
    "# import logistic regression\n",
    "from sklearn.linear_model import LogisticRegression\n",
    "clf = make_pipeline(preprocessing.StandardScaler(), LogisticRegression(random_state=0))\n",
    "clf.fit(X_train, y_train)\n",
    "y_pred = clf.predict(X_test)\n",
    "stats(y_pred, y_test)"
   ]
  },
  {
   "cell_type": "code",
   "execution_count": 14,
   "metadata": {},
   "outputs": [
    {
     "name": "stdout",
     "output_type": "stream",
     "text": [
      "------ Polynomial SVC Results ------\n",
      "F1 Score:  0.5700138352872642\n",
      "ROC AUC Score:  0.5322510912421297\n",
      "[[2809 3495]\n",
      " [2410 3914]]\n",
      "Precision :  0.4455901015228426\n",
      "Recall:  0.538225713738264\n",
      "Accuracy:  0.5323883433639531\n",
      "Mean Absolute Error (MAE): 0.46761165663604687\n",
      "Root Mean Squared Error (RMSE): 0.8269349207180704\n",
      "------ Exponential SVC Results ------\n",
      "F1 Score:  0.6693760984182776\n",
      "ROC AUC Score:  0.5225830732653304\n",
      "[[ 514 5790]\n",
      " [ 230 6094]]\n",
      "Precision :  0.08153553299492386\n",
      "Recall:  0.6908602150537635\n",
      "Accuracy:  0.5232815964523282\n",
      "Mean Absolute Error (MAE): 0.47671840354767187\n",
      "Root Mean Squared Error (RMSE): 0.8309319906542257\n"
     ]
    }
   ],
   "source": [
    "print(\"------ Polynomial SVC Results ------\")\n",
    "clf = make_pipeline(preprocessing.RobustScaler(), NuSVC(kernel='rbf', gamma='auto', degree=3, nu=0.5))\n",
    "clf.fit(X_train, y_train)\n",
    "y_pred = clf.predict(X_test)\n",
    "stats(y_pred, y_test)\n",
    "\n",
    "print(\"------ Exponential SVC Results ------\")\n",
    "clf = make_pipeline(preprocessing.QuantileTransformer(), SVC(kernel='poly', gamma='auto', degree=9))\n",
    "clf.fit(X_train, y_train)\n",
    "y_pred = clf.predict(X_test)\n",
    "stats(y_pred, y_test)"
   ]
  },
  {
   "cell_type": "code",
   "execution_count": 17,
   "metadata": {},
   "outputs": [
    {
     "name": "stdout",
     "output_type": "stream",
     "text": [
      "------ Boosting Results ------\n",
      "F1 Score:  0.6149165236386331\n",
      "ROC AUC Score:  0.6091002831048908\n",
      "[[3751 2553]\n",
      " [2383 3941]]\n",
      "Precision :  0.595019035532995\n",
      "Recall:  0.6115096185197261\n",
      "Accuracy:  0.6091225847323408\n",
      "Mean Absolute Error (MAE): 0.3908774152676592\n",
      "Root Mean Squared Error (RMSE): 0.7906970972523976\n",
      "------ Bagging Results ------\n",
      "F1 Score:  0.7867986798679868\n",
      "ROC AUC Score:  0.7954410640955252\n",
      "[[5276 1028]\n",
      " [1556 4768]]\n",
      "Precision :  0.8369289340101523\n",
      "Recall:  0.772248243559719\n",
      "Accuracy:  0.7953753563509661\n",
      "Mean Absolute Error (MAE): 0.2046246436490339\n",
      "Root Mean Squared Error (RMSE): 0.6725730854285915\n",
      "------ Stacking Results ------\n",
      "F1 Score:  0.8112538419103159\n",
      "ROC AUC Score:  0.8103364790324186\n",
      "[[5086 1218]\n",
      " [1177 5147]]\n",
      "Precision :  0.8067893401015228\n",
      "Recall:  0.8120708925435095\n",
      "Accuracy:  0.8103420969274627\n",
      "Mean Absolute Error (MAE): 0.18965790307253722\n",
      "Root Mean Squared Error (RMSE): 0.659922196528531\n"
     ]
    }
   ],
   "source": [
    "print(\"------ Boosting Results ------\")\n",
    "model = make_pipeline(preprocessing.QuantileTransformer(), GradientBoostingClassifier(learning_rate=0.01, max_depth=3, criterion='squared_error'))\n",
    "model.fit(X_train, y_train)\n",
    "y_pred = model.predict(X_test)\n",
    "stats(y_pred, y_test)\n",
    "\n",
    "print(\"------ Bagging Results ------\")\n",
    "# import Decision Tree Classifier\n",
    "from sklearn.tree import DecisionTreeClassifier\n",
    "clf = make_pipeline(preprocessing.QuantileTransformer(), BaggingClassifier(n_jobs=5, base_estimator=DecisionTreeClassifier(), n_estimators=100))\n",
    "clf.fit(X_train, y_train)\n",
    "y_pred = clf.predict(X_test)\n",
    "stats(y_pred, y_test)\n",
    "\n",
    "\n",
    "print(\"------ Stacking Results ------\")\n",
    "neural = ('nn', make_pipeline(preprocessing.SplineTransformer(), MLPClassifier(hidden_layer_sizes=(16, 32), activation='relu', max_iter=200000)))\n",
    "clf = StackingClassifier(estimators=[\n",
    "    ('rf', RandomForestClassifier(max_depth=24, criterion='entropy', max_features='sqrt')), \n",
    "    ('svm', SVC(kernel='rbf')),\n",
    "    ('gb', GradientBoostingClassifier(max_depth=2))\n",
    "    ])\n",
    "clf.fit(X_train, y_train)\n",
    "y_pred = clf.predict(X_test)\n",
    "stats(y_pred, y_test)"
   ]
  },
  {
   "cell_type": "code",
   "execution_count": 16,
   "metadata": {},
   "outputs": [
    {
     "name": "stdout",
     "output_type": "stream",
     "text": [
      "------ KNN Results ------\n"
     ]
    },
    {
     "name": "stderr",
     "output_type": "stream",
     "text": [
      "/opt/anaconda3/lib/python3.9/site-packages/sklearn/neighbors/_classification.py:228: FutureWarning: Unlike other reduction functions (e.g. `skew`, `kurtosis`), the default behavior of `mode` typically preserves the axis it acts along. In SciPy 1.11.0, this behavior will change: the default value of `keepdims` will become False, the `axis` over which the statistic is taken will be eliminated, and the value None will no longer be accepted. Set `keepdims` to True or False to avoid this warning.\n",
      "  mode, _ = stats.mode(_y[neigh_ind, k], axis=1)\n"
     ]
    },
    {
     "name": "stdout",
     "output_type": "stream",
     "text": [
      "F1 Score:  0.5824532900081235\n",
      "ROC AUC Score:  0.6747247613635269\n",
      "[[5648  656]\n",
      " [3456 2868]]\n",
      "Precision :  0.8959390862944162\n",
      "Recall:  0.6203866432337434\n",
      "Accuracy:  0.6743744060817232\n",
      "Mean Absolute Error (MAE): 0.32562559391827683\n",
      "Root Mean Squared Error (RMSE): 0.7554046140487042\n",
      "------ Decision Tree Results ------\n",
      "F1 Score:  0.6988279259385086\n",
      "ROC AUC Score:  0.7193043501992249\n",
      "[[4968 1336]\n",
      " [2210 4114]]\n",
      "Precision :  0.7880710659898477\n",
      "Recall:  0.6921147952075787\n",
      "Accuracy:  0.7191954387076338\n",
      "Mean Absolute Error (MAE): 0.2808045612923662\n",
      "Root Mean Squared Error (RMSE): 0.7279491437142798\n",
      "------ Random Forest Results ------\n",
      "F1 Score:  0.796165820088481\n",
      "ROC AUC Score:  0.8030324511088207\n",
      "[[5281 1023]\n",
      " [1465 4859]]\n",
      "Precision :  0.8377220812182741\n",
      "Recall:  0.7828342721612808\n",
      "Accuracy:  0.8029775102945834\n",
      "Mean Absolute Error (MAE): 0.19702248970541653\n",
      "Root Mean Squared Error (RMSE): 0.6662373110880252\n"
     ]
    }
   ],
   "source": [
    "print(\"------ KNN Results ------\")\n",
    "from sklearn.neighbors import KNeighborsClassifier\n",
    "k = 2 \n",
    "knn = KNeighborsClassifier(n_neighbors=k)\n",
    "# Train the kNN classifier\n",
    "knn.fit(X_train, y_train)\n",
    "# Make predictions on the test set\n",
    "y_pred = knn.predict(X_test)\n",
    "stats(y_pred, y_test)\n",
    "\n",
    "print(\"------ Decision Tree Results ------\")\n",
    "from sklearn.tree import DecisionTreeClassifier\n",
    "model = DecisionTreeClassifier(max_depth=20)\n",
    "model.fit(X_train, y_train)\n",
    "y_pred = model.predict(X_test)\n",
    "stats(y_pred, y_test)\n",
    "\n",
    "print(\"------ Random Forest Results ------\")\n",
    "clf = RandomForestClassifier(max_depth=40, criterion='gini', max_features='log2')\n",
    "clf.fit(X_train, y_train)\n",
    "y_pred = clf.predict(X_test)\n",
    "stats(y_pred, y_test)"
   ]
  },
  {
   "attachments": {},
   "cell_type": "markdown",
   "metadata": {},
   "source": [
    "# Deep Learning"
   ]
  },
  {
   "cell_type": "code",
   "execution_count": 27,
   "metadata": {},
   "outputs": [],
   "source": [
    "class MyDataset(Dataset):\n",
    "    def __init__(self, dataframe):\n",
    "        self.numeric_columns = ['PH_DO', 'Pressure_DO', 'RH_DO', 'CloudCover_DO', 'Temp_DO',\n",
    "       'DiffuseRad_DO', 'Precip_DO']\n",
    "        self.transformer = preprocessing.QuantileTransformer()\n",
    "        transformed_data = self.transformer.fit_transform(dataframe[self.numeric_columns].values)\n",
    "        dataframe[self.numeric_columns] = transformed_data\n",
    "        self.data = dataframe.dropna(subset=['NH4_N_MGL']).reset_index(drop=True)\n",
    "        \n",
    "\n",
    "    def __len__(self):\n",
    "        return len(self.data)\n",
    "    \n",
    "    def getInverseTransform(self, inputs):\n",
    "        return self.quantile_transformer.inverse_transform(inputs)\n",
    "\n",
    "    def __getitem__(self, idx):\n",
    "        inputs = self.data[self.numeric_columns].iloc[idx].values.astype(np.float32)\n",
    "        label = self.data['decreaseFeed'].iloc[idx].astype(np.float32)\n",
    "        inputs = torch.tensor(inputs)\n",
    "        label = torch.tensor(label)\n",
    "        return inputs, label"
   ]
  },
  {
   "attachments": {},
   "cell_type": "markdown",
   "metadata": {},
   "source": [
    "Artifical Neural Network"
   ]
  },
  {
   "cell_type": "code",
   "execution_count": 28,
   "metadata": {},
   "outputs": [],
   "source": [
    "model = nn.Sequential(\n",
    "    nn.Linear(4, 16),\n",
    "    nn.LeakyReLU(),\n",
    "    nn.Linear(16, 32),\n",
    "    nn.LeakyReLU(),\n",
    "    nn.Linear(32, 8),\n",
    "    nn.LeakyReLU(),\n",
    "    nn.Linear(8, 1),\n",
    ")"
   ]
  },
  {
   "attachments": {},
   "cell_type": "markdown",
   "metadata": {},
   "source": [
    "Reccurrent Neural Network"
   ]
  },
  {
   "cell_type": "code",
   "execution_count": 27,
   "metadata": {},
   "outputs": [],
   "source": [
    "class extract_tensor(nn.Module):\n",
    "    def forward(self,x):\n",
    "        # Output shape (batch, features, hidden)\n",
    "        tensor, _ = x\n",
    "        # Reshape shape (batch, hidden)\n",
    "        return tensor[-1, :]\n",
    "\n",
    "model = nn.Sequential(\n",
    "    nn.RNN(input_size=4, hidden_size=32, num_layers=5, batch_first=True, nonlinearity=\"relu\"),\n",
    "    extract_tensor(),\n",
    "    nn.CELU(),\n",
    "    nn.Linear(32, 1),\n",
    ")"
   ]
  },
  {
   "cell_type": "markdown",
   "metadata": {},
   "source": [
    "Long Short Term Memory (LSTM)"
   ]
  },
  {
   "cell_type": "code",
   "execution_count": 60,
   "metadata": {},
   "outputs": [],
   "source": [
    "model = nn.Sequential(\n",
    "    nn.LSTM(input_size=4, hidden_size=16, num_layers=7 ,dropout=0.15),\n",
    "    extract_tensor(),\n",
    "    nn.Linear(16, 1)\n",
    ")"
   ]
  },
  {
   "attachments": {},
   "cell_type": "markdown",
   "metadata": {},
   "source": [
    "A mix of RNN and LSTM"
   ]
  },
  {
   "cell_type": "code",
   "execution_count": 63,
   "metadata": {},
   "outputs": [],
   "source": [
    "model = nn.Sequential(\n",
    "    nn.LSTM(input_size=3, hidden_size=8, num_layers=3 ,dropout=0.15),\n",
    "    extract_tensor(),\n",
    "    nn.Linear(8, 8),\n",
    "    nn.CELU(),\n",
    "    nn.RNN(input_size=8, hidden_size=16, num_layers=2, batch_first=True, nonlinearity=\"relu\"),\n",
    "    extract_tensor(),\n",
    "    nn.Linear(16, 1)\n",
    ")"
   ]
  },
  {
   "cell_type": "code",
   "execution_count": 29,
   "metadata": {},
   "outputs": [
    {
     "name": "stdout",
     "output_type": "stream",
     "text": [
      "Sequential(\n",
      "  (0): Linear(in_features=4, out_features=16, bias=True)\n",
      "  (1): LeakyReLU(negative_slope=0.01)\n",
      "  (2): Linear(in_features=16, out_features=32, bias=True)\n",
      "  (3): LeakyReLU(negative_slope=0.01)\n",
      "  (4): Linear(in_features=32, out_features=8, bias=True)\n",
      "  (5): LeakyReLU(negative_slope=0.01)\n",
      "  (6): Linear(in_features=8, out_features=1, bias=True)\n",
      ")\n",
      "Epoch 1, Training Loss: 0.1156\n",
      "Epoch 2, Training Loss: 0.1132\n",
      "Epoch 3, Training Loss: 0.1129\n",
      "Epoch 4, Training Loss: 0.1128\n",
      "Epoch 5, Training Loss: 0.1127\n",
      "Epoch 6, Training Loss: 0.1126\n",
      "Epoch 7, Training Loss: 0.1125\n",
      "Epoch 8, Training Loss: 0.1125\n",
      "Epoch 9, Training Loss: 0.1124\n",
      "Epoch 10, Training Loss: 0.1124\n",
      "Epoch 11, Training Loss: 0.1124\n",
      "Epoch 12, Training Loss: 0.1124\n"
     ]
    }
   ],
   "source": [
    "loss_fn = nn.SmoothL1Loss()\n",
    "optimizer = optim.Adam(model.parameters(), lr=0.001)\n",
    "num_epochs = 12\n",
    "\n",
    "test = comb.copy(True)\n",
    "\n",
    "# split testset into training and tetsing\n",
    "trainset, testset = train_test_split(test, test_size=0.15)\n",
    "\n",
    "dataset = MyDataset(trainset)\n",
    "data_loader = DataLoader(dataset, drop_last=True)\n",
    "\n",
    "print(model)\n",
    "for epoch in range(num_epochs):\n",
    "    running_loss = 0.0\n",
    "    model.train()\n",
    "\n",
    "    for inputs, labels in data_loader:\n",
    "        optimizer.zero_grad()\n",
    "        outputs = model(inputs)\n",
    "        \n",
    "        labels = labels.view(outputs.shape)\n",
    "        loss = loss_fn(outputs, labels)\n",
    "        loss.backward()\n",
    "        optimizer.step() \n",
    "        running_loss += abs(loss.item())\n",
    "\n",
    "    epoch_loss = running_loss / len(data_loader)\n",
    "    print(f\"Epoch {epoch+1}, Training Loss: {epoch_loss:.4f}\")"
   ]
  },
  {
   "cell_type": "code",
   "execution_count": 30,
   "metadata": {},
   "outputs": [
    {
     "name": "stdout",
     "output_type": "stream",
     "text": [
      "R2 Score: -0.4976\n",
      "Mean Absolute Error (MAE): 0.3675807524576835\n",
      "Root Mean Squared Error (RMSE): 0.7786426539146699\n"
     ]
    }
   ],
   "source": [
    "y_test_all = []\n",
    "y_pred_all = []\n",
    "\n",
    "dataset = MyDataset(testset)\n",
    "data_loader = DataLoader(dataset)\n",
    "\n",
    "# Disable gradient calculation\n",
    "with torch.no_grad():\n",
    "    for inputs, label in data_loader:\n",
    "        # Forward pass to get predictions\n",
    "        y_pred = model(inputs.unsqueeze(1))\n",
    "        if y_pred <= 0.5:\n",
    "            y_pred_all.append(0)  # Append zero to the list\n",
    "        else:\n",
    "            y_pred_all.append(1)  # Append one to the list\n",
    "        \n",
    "        # Convert the predictions and targets to numpy arrays\n",
    "        label_np = label.numpy()\n",
    "\n",
    "        # Append batch results to the overall lists\n",
    "        y_test_all.append(label_np)\n",
    "\n",
    "# Concatenate the lists into a single array\n",
    "y_test_all = np.array(y_test_all)\n",
    "y_pred_all = np.array(y_pred_all)\n",
    "\n",
    "stats(y_pred_all, y_test_all)"
   ]
  },
  {
   "cell_type": "markdown",
   "metadata": {},
   "source": [
    "# Code Interpreter Supported"
   ]
  },
  {
   "cell_type": "code",
   "execution_count": 26,
   "metadata": {},
   "outputs": [
    {
     "data": {
      "text/plain": [
       "Index(['DO_MGL', 'NH4_N_MGL', 'PH', 'relativehumidity_2m (%)',\n",
       "       'pressure_msl (hPa)', 'precipitation (mm)', 'cloudcover (%)',\n",
       "       'direct_radiation (W/m²)', 'decreaseFeed'],\n",
       "      dtype='object')"
      ]
     },
     "execution_count": 26,
     "metadata": {},
     "output_type": "execute_result"
    }
   ],
   "source": [
    "cis = pd.read_csv(\"../datasets/upsampled_data.csv\")\n",
    "cis.columns"
   ]
  },
  {
   "cell_type": "markdown",
   "metadata": {},
   "source": [
    "# Regression"
   ]
  },
  {
   "cell_type": "code",
   "execution_count": 3,
   "metadata": {},
   "outputs": [],
   "source": [
    "from sklearn.metrics import r2_score\n",
    "\n",
    "def stats(y_pred_all, y_test_all):\n",
    "    # Calculate the R2 score\n",
    "    r2 = r2_score(y_test_all, y_pred_all)\n",
    "\n",
    "    print(f\"R2 Score: {r2:.4f}\")\n",
    "    # Calculate MAE\n",
    "    mae = mean_absolute_error(y_test_all, y_pred_all)\n",
    "\n",
    "    # Calculate RMSE\n",
    "    mse = mean_squared_error(y_test_all, y_pred_all, squared=False)\n",
    "\n",
    "    print(\"Mean Absolute Error (MAE):\", mae)\n",
    "    print(\"Root Mean Squared Error (RMSE):\", math.sqrt(mse))"
   ]
  },
  {
   "cell_type": "code",
   "execution_count": 31,
   "metadata": {},
   "outputs": [],
   "source": [
    "comb.to_csv(\"../datasets/combined.csv\", index=False)"
   ]
  },
  {
   "cell_type": "code",
   "execution_count": 4,
   "metadata": {},
   "outputs": [
    {
     "name": "stdout",
     "output_type": "stream",
     "text": [
      "Index(['PH_DO', 'Pressure_DO', 'RH_DO', 'CloudCover_DO', 'Temp_DO',\n",
      "       'DiffuseRad_DO', 'Precip_DO', 'RH_PH', 'RH_Pressure', 'NH4_N_MGL'],\n",
      "      dtype='object')\n"
     ]
    }
   ],
   "source": [
    "# import missing libraries\n",
    "from sklearn.svm import SVR, NuSVR\n",
    "from sklearn.ensemble import BaggingRegressor, StackingRegressor, GradientBoostingRegressor\n",
    "from sklearn.tree import DecisionTreeRegressor\n",
    "from sklearn.linear_model import LinearRegression\n",
    "from sklearn.preprocessing import PolynomialFeatures\n",
    "from sklearn.pipeline import make_pipeline\n",
    "\n",
    "ammData = pd.read_csv(\"../../../../../../Downloads/final_features_short.csv\")\n",
    "\n",
    "# split train and test\n",
    "test = ammData.copy(True)\n",
    "print(test.columns)\n",
    "X_train,X_test,y_train,y_test = train_test_split(test[['PH_DO', 'Pressure_DO', 'RH_DO', 'CloudCover_DO', 'Temp_DO',\n",
    "       'DiffuseRad_DO', 'Precip_DO', 'RH_PH', 'RH_Pressure']], test['NH4_N_MGL'], test_size=0.2)"
   ]
  },
  {
   "cell_type": "code",
   "execution_count": 6,
   "metadata": {},
   "outputs": [
    {
     "name": "stdout",
     "output_type": "stream",
     "text": [
      "------------ Exponential SVR Results ------------\n",
      "R2 Score: 0.0081\n",
      "Mean Absolute Error (MAE): 0.0678654556140214\n",
      "Root Mean Squared Error (RMSE): 0.4148835345293935\n",
      "------------ Exponential SVR Results ------------\n",
      "R2 Score: -0.0052\n",
      "Mean Absolute Error (MAE): 0.09531670179248984\n",
      "Root Mean Squared Error (RMSE): 0.4162709486940927\n",
      "------------ Polynomial SVR Results ------------\n",
      "R2 Score: 0.0092\n",
      "Mean Absolute Error (MAE): 0.06777841534451286\n",
      "Root Mean Squared Error (RMSE): 0.41477215876243057\n"
     ]
    }
   ],
   "source": [
    "print(\"------------ Exponential SVR Results ------------\")\n",
    "clf_rbf_nusvm = make_pipeline(preprocessing.SplineTransformer(), NuSVR(kernel='rbf', shrinking=True, C=1.5))\n",
    "clf_rbf_nusvm.fit(X_train, y_train)\n",
    "y_pred = clf_rbf_nusvm.predict(X_test)\n",
    "stats(y_pred, y_test)\n",
    "\n",
    "print(\"------------ Exponential SVR Results ------------\")\n",
    "clf_rbf_svm = make_pipeline(preprocessing.SplineTransformer(), SVR(kernel='rbf', shrinking=True, C=1.5))\n",
    "clf_rbf_svm.fit(X_train[:len(X_train)//2], y_train[:len(X_train)//2])\n",
    "clf_rbf_svm.fit(X_train[len(X_train)//2:], y_train[len(X_train)//2:])\n",
    "y_pred = clf_rbf_svm.predict(X_test)\n",
    "stats(y_pred, y_test)\n",
    "\n",
    "print(\"------------ Polynomial SVR Results ------------\")\n",
    "clf_poly_nusvm = make_pipeline(preprocessing.SplineTransformer(), NuSVR(kernel='poly', shrinking=False, C=2.5))\n",
    "clf_poly_nusvm.fit(X_train, y_train)\n",
    "y_pred = clf_poly_nusvm.predict(X_test)\n",
    "stats(y_pred, y_test)"
   ]
  },
  {
   "cell_type": "code",
   "execution_count": 5,
   "metadata": {},
   "outputs": [
    {
     "name": "stdout",
     "output_type": "stream",
     "text": [
      "------------ Random Forest Results ------------\n",
      "R2 Score: -0.0071\n",
      "Mean Absolute Error (MAE): 0.08230576166114743\n",
      "Root Mean Squared Error (RMSE): 0.4164674046051052\n",
      "------------ Poly Regression Results ------------\n",
      "R2 Score: -62623.2676\n",
      "Mean Absolute Error (MAE): 0.4861205345548796\n",
      "Root Mean Squared Error (RMSE): 6.576524712091455\n",
      "------------ Decision Tree Results ------------\n",
      "R2 Score: -1.1275\n",
      "Mean Absolute Error (MAE): 0.10125454058109992\n",
      "Root Mean Squared Error (RMSE): 0.5020887785994078\n",
      "------------ XG Boost Results ------------\n",
      "R2 Score: 0.0387\n",
      "Mean Absolute Error (MAE): 0.0671933902483132\n",
      "Root Mean Squared Error (RMSE): 0.41164394043863345\n"
     ]
    }
   ],
   "source": [
    "print(\"------------ Random Forest Results ------------\")\n",
    "rf_regressor = make_pipeline(preprocessing.StandardScaler(), RandomForestRegressor(n_estimators=24, max_depth=20))\n",
    "rf_regressor.fit(X_train, y_train)\n",
    "y_pred = rf_regressor.predict(X_test)\n",
    "stats(y_pred, y_test)\n",
    "\n",
    "print(\"------------ Poly Regression Results ------------\")\n",
    "from sklearn.preprocessing import PolynomialFeatures\n",
    "from sklearn.linear_model import LinearRegression\n",
    "\n",
    "poly_features = PolynomialFeatures(degree=5, include_bias=False)\n",
    "X_train_poly = poly_features.fit_transform(X_train)\n",
    "X_test_poly = poly_features.transform(X_test)\n",
    "# Initialize and fit the linear regression model\n",
    "poly_reg = LinearRegression()\n",
    "poly_reg.fit(X_train_poly, y_train)\n",
    "# Predict the target variable for training and test sets\n",
    "y_pred = poly_reg.predict(X_test_poly)\n",
    "stats(y_pred, y_test)\n",
    "\n",
    "print(\"------------ Decision Tree Results ------------\")\n",
    "from sklearn.tree import DecisionTreeRegressor\n",
    "d_tree = DecisionTreeRegressor(max_depth=24)\n",
    "d_tree.fit(X_train, y_train)\n",
    "y_pred = d_tree.predict(X_test)\n",
    "stats(y_pred, y_test)\n",
    "\n",
    "print(\"------------ XG Boost Results ------------\")\n",
    "from sklearn.ensemble import GradientBoostingRegressor\n",
    "xg_boost = GradientBoostingRegressor(learning_rate=0.1, loss='huber', max_depth=6, criterion='squared_error')\n",
    "xg_boost.fit(X_train, y_train)\n",
    "y_pred = xg_boost.predict(X_test)\n",
    "stats(y_pred, y_test)"
   ]
  },
  {
   "cell_type": "code",
   "execution_count": 7,
   "metadata": {},
   "outputs": [
    {
     "name": "stdout",
     "output_type": "stream",
     "text": [
      "------ Bagging Results ------\n",
      "R2 Score: -0.0967\n",
      "Mean Absolute Error (MAE): 0.0869412525937307\n",
      "Root Mean Squared Error (RMSE): 0.42543690229319614\n",
      "------ Stacking Results ------\n"
     ]
    }
   ],
   "source": [
    "# Bagging\n",
    "print(\"------ Bagging Results ------\")\n",
    "bagging = make_pipeline(preprocessing.StandardScaler(), BaggingRegressor(n_estimators=10))\n",
    "bagging.fit(X_train, y_train)\n",
    "y_pred_bagging = bagging.predict(X_test)\n",
    "stats(y_pred_bagging, y_test)\n",
    "\n",
    "# Stacking\n",
    "print(\"------ Stacking Results ------\")\n",
    "from sklearn.ensemble import StackingRegressor\n",
    "from sklearn.neural_network import MLPRegressor\n",
    "\n",
    "model = StackingRegressor(estimators=[\n",
    "    ('svr', NuSVR(kernel='poly', shrinking=False, C=2.5)), \n",
    "    ('rf', RandomForestRegressor(n_estimators=10,random_state=42, n_jobs=8)),\n",
    "    ('bag', BaggingRegressor(n_jobs=5)),\n",
    "    ('bst', GradientBoostingRegressor(learning_rate=0.1, loss='huber', max_depth=6, criterion='squared_error')),\n",
    "    ('n1', MLPRegressor(hidden_layer_sizes=(2,3), activation='relu')),\n",
    "    ('n2', MLPRegressor(hidden_layer_sizes=(3,2), activation='tanh'))\n",
    "])\n",
    "model.fit(X_train, y_train)\n",
    "y_pred = model.predict(X_test)\n",
    "stats(y_pred, y_test)\n",
    "\n",
    "# LinearRegression\n",
    "print(\"------ LinearRegression Results ------\")\n",
    "linear_regression = make_pipeline(preprocessing.StandardScaler(), LinearRegression())\n",
    "linear_regression.fit(X_train, y_train)\n",
    "y_pred_lr = linear_regression.predict(X_test)\n",
    "stats(y_pred_lr, y_test)"
   ]
  }
 ],
 "metadata": {
  "kernelspec": {
   "display_name": "venv",
   "language": "python",
   "name": "python3"
  },
  "language_info": {
   "codemirror_mode": {
    "name": "ipython",
    "version": 3
   },
   "file_extension": ".py",
   "mimetype": "text/x-python",
   "name": "python",
   "nbconvert_exporter": "python",
   "pygments_lexer": "ipython3",
   "version": "3.9.13"
  },
  "orig_nbformat": 4
 },
 "nbformat": 4,
 "nbformat_minor": 2
}
