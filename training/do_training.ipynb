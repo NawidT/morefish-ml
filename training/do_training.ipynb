{
 "cells": [
  {
   "cell_type": "code",
   "execution_count": null,
   "metadata": {},
   "outputs": [],
   "source": [
    "! pip install pymysql"
   ]
  },
  {
   "attachments": {},
   "cell_type": "markdown",
   "metadata": {},
   "source": [
    "Install Python 3.9.13"
   ]
  },
  {
   "cell_type": "code",
   "execution_count": 1,
   "metadata": {},
   "outputs": [],
   "source": [
    "import torch.nn as nn\n",
    "import torch.nn.functional as F\n",
    "import torch\n",
    "import torch.optim as optim\n",
    "import numpy as np\n",
    "import pandas as pd\n",
    "import matplotlib.pyplot as plt\n",
    "import sklearn.feature_selection as fs\n",
    "import pickle\n",
    "from sklearn.ensemble import RandomForestRegressor, GradientBoostingRegressor\n",
    "from sklearn.neural_network import MLPRegressor\n",
    "from sklearn.feature_selection import SelectFromModel\n",
    "from sklearn.model_selection import train_test_split\n",
    "import sklearn.preprocessing as preprocessing\n",
    "from torch.utils.data import Dataset, DataLoader\n",
    "from torch.nn.functional import normalize\n",
    "from sklearn.svm import SVR, NuSVR\n",
    "from sklearn.pipeline import make_pipeline"
   ]
  },
  {
   "attachments": {},
   "cell_type": "markdown",
   "metadata": {},
   "source": [
    "# Grab Dataset"
   ]
  },
  {
   "cell_type": "code",
   "execution_count": 2,
   "metadata": {},
   "outputs": [],
   "source": [
    "ysi = pd.read_csv(\"../datasets/Colorado/ysi_dataset.csv\")\n",
    "weather = pd.read_csv(\"../datasets/Colorado/weather_dataset.csv\")\n",
    "# convert to date time and round ysi to nearest 15 mins\n",
    "ysi['datetime'] = pd.to_datetime(ysi['datetime']).dt.round('15min')\n",
    "weather['datetime'] = pd.to_datetime(weather['datetime'])"
   ]
  },
  {
   "cell_type": "code",
   "execution_count": 3,
   "metadata": {},
   "outputs": [
    {
     "data": {
      "text/plain": [
       "Index(['datetime', 'experimentid_x', 'ph', 'temperature_oc',\n",
       "       'par_umol_photons_m2_s', 'dissolved_oxygen_mg_l', 'airtemp_oc',\n",
       "       'global_light_energy_w_m2', 'humid_rh', 'wdspd_m_s'],\n",
       "      dtype='object')"
      ]
     },
     "execution_count": 3,
     "metadata": {},
     "output_type": "execute_result"
    }
   ],
   "source": [
    "# combine both DF's on datetime\n",
    "combined = pd.merge(ysi, weather, on='datetime')\n",
    "combined.reset_index(drop=True, inplace=True)\n",
    "combined = combined.drop(columns=['experimentid_y'])\n",
    "#combined = pd.read_csv(\"../datasets/Colorado/best_50_days_data.csv\")\n",
    "combined.columns"
   ]
  },
  {
   "attachments": {},
   "cell_type": "markdown",
   "metadata": {},
   "source": [
    "# Data Visualization"
   ]
  },
  {
   "cell_type": "code",
   "execution_count": 405,
   "metadata": {},
   "outputs": [],
   "source": [
    "# combined = combined.drop(combined[combined['ph'] < 5].index)\n",
    "# combined = combined.drop(combined[combined['ph'] > 9].index)\n",
    "# combined = combined.drop(combined[combined['dissolved_oxygen_mg_l'] < 2].index)\n",
    "# combined = combined.drop(combined[combined['dissolved_oxygen_mg_l'] > 20].index)\n",
    "# combined = combined.drop(combined[combined['dissolved_oxygen_mg_l'] < 3/100 * combined['global_light_energy_w_m2']].index)\n",
    "# combined = combined.drop(combined[combined['dissolved_oxygen_mg_l'] >( 3/100 * combined['global_light_energy_w_m2']) + 15].index)"
   ]
  },
  {
   "cell_type": "code",
   "execution_count": 5,
   "metadata": {},
   "outputs": [],
   "source": [
    "combined.to_csv(\"../datasets/do_combined.csv\", index=False)"
   ]
  },
  {
   "cell_type": "code",
   "execution_count": null,
   "metadata": {},
   "outputs": [],
   "source": [
    "feat = combined.sample(3000)\n",
    "plt.plot(feat['temperature_oc'],feat['dissolved_oxygen_mg_l'], 'bo')\n",
    "plt.ylabel(\"ph\")\n",
    "plt.xlabel(\"global_light_energy_w_m2\")\n",
    "plt.show()"
   ]
  },
  {
   "attachments": {},
   "cell_type": "markdown",
   "metadata": {},
   "source": [
    "# Feature Selection"
   ]
  },
  {
   "cell_type": "code",
   "execution_count": null,
   "metadata": {},
   "outputs": [],
   "source": [
    "X = feat[['ph', 'temperature_oc', 'global_light_energy_w_m2', 'humid_rh']].values\n",
    "y = feat['dissolved_oxygen_mg_l'].values\n",
    "regressor = RandomForestRegressor(n_estimators=50)\n",
    "regressor.fit(X, y)\n",
    "\n",
    "\n",
    "print(regressor.feature_importances_)\n",
    "\n",
    "model = SelectFromModel(regressor, prefit=True)\n",
    "X_new = model.transform(X)"
   ]
  },
  {
   "attachments": {},
   "cell_type": "markdown",
   "metadata": {},
   "source": [
    "features selected: ph, temperature_oc, global_light_energy_w_m2, humid_rh\n",
    "not considered: wdspd_m_s (low correlation), par_umol_photons_m2_s (duplicated),"
   ]
  },
  {
   "attachments": {},
   "cell_type": "markdown",
   "metadata": {},
   "source": [
    "# Training"
   ]
  },
  {
   "cell_type": "code",
   "execution_count": 13,
   "metadata": {},
   "outputs": [
    {
     "name": "stdout",
     "output_type": "stream",
     "text": [
      "Index(['datetime', 'dissolved_oxygen_mg_l', 'depth', 'temperature_oc',\n",
      "       'airtemp_oc', 'humid_rh', 'global_light_energy_w_m2', 'hour', 'ph'],\n",
      "      dtype='object')\n",
      "Index(['datetime', 'experimentid_x', 'ph', 'temperature_oc',\n",
      "       'par_umol_photons_m2_s', 'dissolved_oxygen_mg_l', 'airtemp_oc',\n",
      "       'global_light_energy_w_m2', 'humid_rh', 'wdspd_m_s', 'hour', 'depth'],\n",
      "      dtype='object')\n"
     ]
    }
   ],
   "source": [
    "phillydf = pd.read_csv(\"../datasets/Philly/phillycombined.csv\")\n",
    "\n",
    "# rename columns\n",
    "phillydf = phillydf.rename(columns={\"DO_mg_L\": \"dissolved_oxygen_mg_l\", \"time\": \"datetime\", \"Temp_deg_C\": \"temperature_oc\", \"relativehumidity_2m (%)\": \"humid_rh\", \"temperature_2m (°C)\": \"airtemp_oc\", \"diffuse_radiation (W/m²)\": \"global_light_energy_w_m2\", \"Depth_m\": \"depth\"})\n",
    "phillydf['datetime'] = pd.to_datetime(phillydf['datetime'])\n",
    "phillydf['hour'] = pd.to_datetime(phillydf['datetime']).dt.hour\n",
    "combined['hour'] = pd.to_datetime(combined['datetime']).dt.hour\n",
    "combined = combined.dropna(subset=['hour'])\n",
    "combined['depth'] = 1.5\n",
    "\n",
    "\n",
    "\n",
    "phillydf['ph'] = 7\n",
    "phillydf = phillydf.drop(columns=['Longitude','Unnamed: 0', 'Site', 'Latitude', 'DO_pct_Sat', 'DOLoggerType', 'roundedNearestHour', 'roundedNearestHour', 'precipitation (mm)', 'direct_radiation (W/m²)', 'surface_pressure (hPa)', 'windspeed_10m (km/h)'])\n",
    "\n",
    "print(phillydf.columns)\n",
    "print(combined.columns)\n",
    "# big dataset\n",
    "big_df = pd.concat([combined[phillydf.columns], phillydf], ignore_index=True)\n",
    "# small dataset\n",
    "test = combined.tail(250)\n",
    "phillydf = phillydf.tail(250)\n",
    "test = pd.concat([test, phillydf], ignore_index=True)\n",
    "\n",
    "\n",
    "\n",
    "test = test.dropna(subset=['hour', 'dissolved_oxygen_mg_l'], inplace=False)\n",
    "X_train,X_test,y_train,y_test = train_test_split(test[['global_light_energy_w_m2', 'ph', 'temperature_oc', 'humid_rh', 'airtemp_oc','depth', 'hour']],\n",
    "        test['dissolved_oxygen_mg_l'], test_size=0.15)\n",
    "\n",
    "big_X_train, big_X_test, big_y_train, big_y_test = train_test_split(big_df[['global_light_energy_w_m2', 'ph', 'temperature_oc', 'humid_rh', 'airtemp_oc','depth', 'hour']],\n",
    "        big_df['dissolved_oxygen_mg_l'], test_size=0.15)"
   ]
  },
  {
   "cell_type": "code",
   "execution_count": 10,
   "metadata": {},
   "outputs": [],
   "source": [
    "from sklearn.metrics import r2_score, mean_squared_error, mean_absolute_error\n",
    "import math\n",
    "\n",
    "def stats(y_pred_all, y_test_all):\n",
    "    # Calculate the R2 score\n",
    "    r2 = r2_score(y_test_all, y_pred_all)\n",
    "\n",
    "    print(f\"R2 Score: {r2:.4f}\")\n",
    "    # Calculate MAE\n",
    "    mae = mean_absolute_error(y_test_all, y_pred_all)\n",
    "\n",
    "    # Calculate RMSE\n",
    "    mse = mean_squared_error(y_test_all, y_pred_all, squared=False)\n",
    "\n",
    "    print(\"Mean Absolute Error (MAE):\", mae)\n",
    "    print(\"Root Mean Squared Error (RMSE):\", math.sqrt(mse))"
   ]
  },
  {
   "cell_type": "markdown",
   "metadata": {},
   "source": [
    "# SVM"
   ]
  },
  {
   "cell_type": "code",
   "execution_count": 14,
   "metadata": {},
   "outputs": [
    {
     "name": "stdout",
     "output_type": "stream",
     "text": [
      "------------ Linear Regression ------------\n",
      "R2 Score: 0.7737\n",
      "Mean Absolute Error (MAE): 1.7571362715999816\n",
      "Root Mean Squared Error (RMSE): 1.4805070427904568\n"
     ]
    }
   ],
   "source": [
    "print(\"------------ Linear Regression ------------\")\n",
    "from sklearn.linear_model import LinearRegression\n",
    "linreg = LinearRegression().fit(X_train, y_train)\n",
    "y_pred = linreg.predict(X_test)\n",
    "stats(y_pred, y_test)"
   ]
  },
  {
   "cell_type": "code",
   "execution_count": 42,
   "metadata": {},
   "outputs": [
    {
     "name": "stdout",
     "output_type": "stream",
     "text": [
      "------------ Spline SVR Results ------------\n",
      "R2 Score: 0.9371\n",
      "Mean Absolute Error (MAE): 0.6117052635220988\n",
      "Root Mean Squared Error (RMSE): 1.074989445024381\n",
      "------------ Robust SVR Results ------------\n",
      "R2 Score: 0.9056\n",
      "Mean Absolute Error (MAE): 0.892688148111583\n",
      "Root Mean Squared Error (RMSE): 1.1899118350441615\n",
      "------------ Ridge Regression Results ------------\n",
      "R2 Score: 0.9506\n",
      "Mean Absolute Error (MAE): 0.6958052288569115\n",
      "Root Mean Squared Error (RMSE): 1.0118322602936707\n",
      "------------ Weighted Stacking Results ------------\n",
      "R2 Score: 0.9352\n",
      "Mean Absolute Error (MAE): 0.6927113369835289\n",
      "Root Mean Squared Error (RMSE): 1.0830217646972902\n",
      "------------ Functional Stacking Results ------------\n",
      "(425,)\n",
      "(75,)\n",
      "R2 Score: 0.9345\n",
      "Mean Absolute Error (MAE): 0.7075724512223004\n",
      "Root Mean Squared Error (RMSE): 1.0857804508178843\n"
     ]
    }
   ],
   "source": [
    "from sklearn.linear_model import RidgeCV\n",
    "\n",
    "print(\"------------ Spline SVR Results ------------\")\n",
    "svm_spline = make_pipeline(preprocessing.SplineTransformer(), SVR(kernel='rbf', shrinking=True, C=1.5))\n",
    "svm_spline.fit(X_train, y_train)\n",
    "y_pred = svm_spline.predict(X_test)\n",
    "# # save as pickle file\n",
    "# filename = './weights/do_svm_spline.pkl'\n",
    "# pickle.dump(svm_spline, open(filename, 'wb'))\n",
    "stats(y_pred, y_test)\n",
    "\n",
    "print(\"------------ Robust SVR Results ------------\")\n",
    "svm_robust = make_pipeline(preprocessing.MinMaxScaler(), SVR(kernel='rbf', shrinking=True, C=1.5))\n",
    "svm_robust.fit(X_train, y_train)\n",
    "y_pred = svm_robust.predict(X_test)\n",
    "# save as pickle file\n",
    "# filename = './weights/do_svm_robust.pkl'\n",
    "# pickle.dump(svm_robust, open(filename, 'wb'))\n",
    "stats(y_pred, y_test)\n",
    "\n",
    "def noCCpredict(npobj):\n",
    "    # Load pickle file from ./weights\n",
    "    data = pd.DataFrame(npobj)\n",
    "    X_test = data[['global_light_energy_w_m2', 'ph', 'temperature_oc', 'humid_rh', 'airtemp_oc', 'depth', 'hour']]\n",
    "\n",
    "    with open('./weights/do_svm_spline.pkl', 'rb') as f:\n",
    "        svm_spline = pickle.load(f)\n",
    "\n",
    "    with open('./weights/do_svm_robust.pkl', 'rb') as f:\n",
    "        svm_robust = pickle.load(f)\n",
    "\n",
    "    with open('./weights/do_ridge.pkl', 'rb') as f:\n",
    "        ridge = pickle.load(f)\n",
    "\n",
    "    # run predict on all models and average the results\n",
    "    svm_spline_pred = svm_spline.predict(X_test)\n",
    "    svm_robust_pred = svm_robust.predict(X_test)\n",
    "    ridge_pred = ridge.predict(X_test)\n",
    "\n",
    "    # average the results\n",
    "    pred = (svm_spline_pred * 5.2 + svm_robust_pred * 4.8 + ridge_pred * 1.7) / (5.2 + 4.8 + 1.7)\n",
    "\n",
    "    return pred\n",
    "\n",
    "\n",
    "from sklearn.ensemble import StackingRegressor\n",
    "class WeightedStackingRegressor(StackingRegressor):\n",
    "    def __init__(self, estimators, final_estimator=RidgeCV(), cv=None, \n",
    "                 n_jobs=None, passthrough=False, verbose=0, weights=None):\n",
    "        self.estimators = estimators\n",
    "        self.final_estimator = final_estimator\n",
    "        self.cv = cv\n",
    "        self.n_jobs = n_jobs\n",
    "        self.passthrough = passthrough\n",
    "        self.verbose = verbose\n",
    "        self.weights = weights or {}\n",
    "        super().__init__(estimators=estimators, final_estimator=final_estimator, cv=cv, \n",
    "                            n_jobs=n_jobs, passthrough=passthrough, verbose=verbose)\n",
    "        \n",
    "    def predict(self, X, **predict_params):\n",
    "        predictions = [\n",
    "            estimator.predict(X) for estimator in self.estimators_\n",
    "        ]\n",
    "        weighted_predictions = sum(\n",
    "            self.weights.get(name, 1) * prediction for name, prediction in zip(self.named_estimators_.keys(), predictions)\n",
    "        )\n",
    "        normalized_predictions = weighted_predictions / sum(self.weights.values())\n",
    "        \n",
    "        return normalized_predictions\n",
    "\n",
    "\n",
    "from sklearn.linear_model import Ridge\n",
    "print(\"------------ Ridge Regression Results ------------\")\n",
    "ridge = make_pipeline(preprocessing.SplineTransformer(), Ridge())\n",
    "ridge.fit(X_train, y_train)\n",
    "y_pred = ridge.predict(X_test)\n",
    "# save as pickle file\n",
    "#filename = './weights/do_ridge.pkl'\n",
    "#pickle.dump(ridge, open(filename, 'wb'))\n",
    "stats(y_pred, y_test)\n",
    "\n",
    "print(\"------------ Weighted Stacking Results ------------\")\n",
    "svm_weighted = WeightedStackingRegressor(estimators=[('svr', svm_spline), ('svr2', svm_robust), ('ridge', ridge)], \n",
    "                    weights={'svr': 5.2, 'svr2': 4.8, 'ridge': 1.7})\n",
    "svm_weighted.fit(X_train, y_train)\n",
    "y_pred = svm_weighted.predict(X_test)\n",
    "stats(y_pred, y_test)\n",
    "\n",
    "\n",
    "def getWeightedAvg(X):\n",
    "    models = [svm_spline, svm_robust, ridge]\n",
    "    weights = [5.2, 4.8, 1.7]\n",
    "    \n",
    "    # Ensure the number of models matches the number of weights\n",
    "    if len(models) != len(weights):\n",
    "        raise ValueError(\"Number of models must match number of weights.\")\n",
    "    \n",
    "    # Compute predictions for each model\n",
    "    base_predictions = [model.predict(X) for model in models]\n",
    "    \n",
    "    # Compute the weighted average of the predictions\n",
    "    weighted_avg = np.sum([pred * weight for pred, weight in zip(base_predictions, weights)], axis=0) / sum(weights)\n",
    "    \n",
    "    # Reshape the weighted predictions to fit the final estimator's expected input shape\n",
    "    print(weighted_avg.shape)\n",
    "    weighted_avg = weighted_avg.reshape(-1, 1)\n",
    "    return weighted_avg\n",
    "   \n",
    "\n",
    "print(\"------------ Functional Stacking Results ------------\")\n",
    "three_df = pd.DataFrame(svm_spline.predict(X_train), columns=['svm_spline'])\n",
    "ridgecv = RidgeCV()\n",
    "ridgecv.fit(getWeightedAvg(X_train), y_train)\n",
    "y_pred = ridgecv.predict(getWeightedAvg(X_test))\n",
    "stats(y_pred, y_test)"
   ]
  },
  {
   "cell_type": "code",
   "execution_count": 59,
   "metadata": {},
   "outputs": [
    {
     "name": "stdout",
     "output_type": "stream",
     "text": [
      "------------ Functional Stacking Results ------------\n",
      "MLP model fitted.\n",
      "MLP predictions computed.\n",
      "R2 Score: 0.5361\n",
      "Mean Absolute Error (MAE): 1.664244430745274\n",
      "Root Mean Squared Error (RMSE): 1.555035426268399\n"
     ]
    }
   ],
   "source": [
    "from sklearn.neural_network import MLPRegressor\n",
    "\n",
    "def get_mlp_fitted(X):\n",
    "    models = [svm_spline, svm_robust, ridge]\n",
    "    weights = [5.2, 4.8, 1.7]\n",
    "\n",
    "    mw = {model: weight for model, weight in zip(models, weights)}\n",
    "    \n",
    "    # Ensure the number of models matches the number of weights\n",
    "    if len(models) != len(weights):\n",
    "        raise ValueError(\"Number of models must match number of weights.\")\n",
    "    \n",
    "    # Compute predictions for each model\n",
    "    base_predictions = np.column_stack([\n",
    "        mw[model] * model.predict(X) for model in models\n",
    "    ])\n",
    "    \n",
    "    return base_predictions\n",
    "\n",
    "\n",
    "print(\"------------ Functional Stacking Results ------------\")\n",
    "from sklearn.linear_model import RidgeCV\n",
    "from sklearn.tree import DecisionTreeRegressor\n",
    "\n",
    "# 1. Create the MLP model\n",
    "mlp = make_pipeline(preprocessing.RobustScaler(), MLPRegressor(hidden_layer_sizes=(3, 3), max_iter=len(big_X_train), solver='adam', random_state=21))\n",
    "\n",
    "# 2. Fit the MLP model on the weighted predictions\n",
    "mlp_fitted_X_train = get_mlp_fitted(big_X_train)\n",
    "mlp.fit(mlp_fitted_X_train, big_y_train)\n",
    "print(\"MLP model fitted.\")\n",
    "\n",
    "# Get the MLP's predictions on the test set\n",
    "mlp_fitted_X_test = get_mlp_fitted(big_X_test)\n",
    "mlp_predictions = mlp.predict(mlp_fitted_X_test)\n",
    "print(\"MLP predictions computed.\")\n",
    "\n",
    "# 3. Create and fit the RidgeCV model on the MLP's predictions\n",
    "ridgecv = LinearRegression()\n",
    "ridgecv.fit(mlp_predictions.reshape(-1, 1), big_y_test)  # Reshape the predictions to fit RidgeCV\n",
    "\n",
    "# Now you can use the `ridge` model to make final predictions\n",
    "final_predictions = ridgecv.predict(mlp_predictions.reshape(-1, 1))\n",
    "\n",
    "# Print or use the final_predictions as needed\n",
    "stats(final_predictions, big_y_test)\n",
    "\n"
   ]
  },
  {
   "cell_type": "markdown",
   "metadata": {},
   "source": [
    "# Other Made"
   ]
  },
  {
   "cell_type": "code",
   "execution_count": 46,
   "metadata": {},
   "outputs": [
    {
     "name": "stdout",
     "output_type": "stream",
     "text": [
      "------------ Bayesian Ridge Regression Results ------------\n",
      "R2 Score: 0.4446\n",
      "Mean Absolute Error (MAE): 2.9504119658462744\n",
      "Root Mean Squared Error (RMSE): 1.883695194512934\n",
      "------------ Huber Regression Results ------------\n",
      "R2 Score: 0.9734\n",
      "Mean Absolute Error (MAE): 0.5344092080140316\n",
      "Root Mean Squared Error (RMSE): 0.8812959941956188\n",
      "------------ Ridge Regression Results ------------\n",
      "R2 Score: 0.9705\n",
      "Mean Absolute Error (MAE): 0.5471971238361426\n",
      "Root Mean Squared Error (RMSE): 0.9040085533035759\n"
     ]
    },
    {
     "name": "stderr",
     "output_type": "stream",
     "text": [
      "/opt/anaconda3/lib/python3.9/site-packages/sklearn/preprocessing/_data.py:2590: UserWarning: n_quantiles (1000) is greater than the total number of samples (425). n_quantiles is set to n_samples.\n",
      "  warnings.warn(\n",
      "/opt/anaconda3/lib/python3.9/site-packages/sklearn/linear_model/_huber.py:332: ConvergenceWarning: lbfgs failed to converge (status=1):\n",
      "STOP: TOTAL NO. of ITERATIONS REACHED LIMIT.\n",
      "\n",
      "Increase the number of iterations (max_iter) or scale the data as shown in:\n",
      "    https://scikit-learn.org/stable/modules/preprocessing.html\n",
      "  self.n_iter_ = _check_optimize_result(\"lbfgs\", opt_res, self.max_iter)\n"
     ]
    }
   ],
   "source": [
    "from sklearn.linear_model import (\n",
    "    LinearRegression,\n",
    "    Ridge,\n",
    "    Lasso,\n",
    "    ElasticNet,\n",
    "    BayesianRidge,\n",
    "    HuberRegressor,\n",
    ")\n",
    "from sklearn.neighbors import KNeighborsRegressor\n",
    "from sklearn.cluster import KMeans\n",
    "from sklearn.mixture import GaussianMixture\n",
    "from sklearn.ensemble import IsolationForest\n",
    "from sklearn.neural_network import MLPRegressor\n",
    "\n",
    "# Bayesian Ridge Regression\n",
    "print(\"------------ Bayesian Ridge Regression Results ------------\")\n",
    "bayesian_ridge = make_pipeline(preprocessing.QuantileTransformer(), BayesianRidge())\n",
    "bayesian_ridge.fit(X_train, y_train)\n",
    "y_pred = bayesian_ridge.predict(X_test)\n",
    "stats(y_pred, y_test)\n",
    "\n",
    "# Huber Regression\n",
    "print(\"------------ Huber Regression Results ------------\")\n",
    "huber_reg = make_pipeline(preprocessing.SplineTransformer(), HuberRegressor())\n",
    "huber_reg.fit(X_train, y_train)\n",
    "y_pred = huber_reg.predict(X_test)\n",
    "stats(y_pred, y_test)\n"
   ]
  },
  {
   "cell_type": "markdown",
   "metadata": {},
   "source": [
    "# Tree Based"
   ]
  },
  {
   "cell_type": "code",
   "execution_count": 12,
   "metadata": {},
   "outputs": [
    {
     "name": "stdout",
     "output_type": "stream",
     "text": [
      "------------ Bagging Results ------------\n",
      "R2 Score: 0.9534\n",
      "Mean Absolute Error (MAE): 0.44896000000000014\n",
      "Root Mean Squared Error (RMSE): 0.97446160106031\n",
      "------------ Stacking Results ------------\n"
     ]
    },
    {
     "name": "stderr",
     "output_type": "stream",
     "text": [
      "/opt/anaconda3/lib/python3.9/site-packages/sklearn/neural_network/_multilayer_perceptron.py:692: ConvergenceWarning: Stochastic Optimizer: Maximum iterations (200) reached and the optimization hasn't converged yet.\n",
      "  warnings.warn(\n",
      "/opt/anaconda3/lib/python3.9/site-packages/sklearn/neural_network/_multilayer_perceptron.py:692: ConvergenceWarning: Stochastic Optimizer: Maximum iterations (200) reached and the optimization hasn't converged yet.\n",
      "  warnings.warn(\n",
      "/opt/anaconda3/lib/python3.9/site-packages/sklearn/neural_network/_multilayer_perceptron.py:692: ConvergenceWarning: Stochastic Optimizer: Maximum iterations (200) reached and the optimization hasn't converged yet.\n",
      "  warnings.warn(\n",
      "/opt/anaconda3/lib/python3.9/site-packages/sklearn/neural_network/_multilayer_perceptron.py:692: ConvergenceWarning: Stochastic Optimizer: Maximum iterations (200) reached and the optimization hasn't converged yet.\n",
      "  warnings.warn(\n",
      "/opt/anaconda3/lib/python3.9/site-packages/sklearn/neural_network/_multilayer_perceptron.py:692: ConvergenceWarning: Stochastic Optimizer: Maximum iterations (200) reached and the optimization hasn't converged yet.\n",
      "  warnings.warn(\n",
      "/opt/anaconda3/lib/python3.9/site-packages/sklearn/neural_network/_multilayer_perceptron.py:692: ConvergenceWarning: Stochastic Optimizer: Maximum iterations (200) reached and the optimization hasn't converged yet.\n",
      "  warnings.warn(\n",
      "/opt/anaconda3/lib/python3.9/site-packages/sklearn/neural_network/_multilayer_perceptron.py:692: ConvergenceWarning: Stochastic Optimizer: Maximum iterations (200) reached and the optimization hasn't converged yet.\n",
      "  warnings.warn(\n",
      "/opt/anaconda3/lib/python3.9/site-packages/sklearn/neural_network/_multilayer_perceptron.py:692: ConvergenceWarning: Stochastic Optimizer: Maximum iterations (200) reached and the optimization hasn't converged yet.\n",
      "  warnings.warn(\n",
      "/opt/anaconda3/lib/python3.9/site-packages/sklearn/neural_network/_multilayer_perceptron.py:692: ConvergenceWarning: Stochastic Optimizer: Maximum iterations (200) reached and the optimization hasn't converged yet.\n",
      "  warnings.warn(\n",
      "/opt/anaconda3/lib/python3.9/site-packages/sklearn/neural_network/_multilayer_perceptron.py:692: ConvergenceWarning: Stochastic Optimizer: Maximum iterations (200) reached and the optimization hasn't converged yet.\n",
      "  warnings.warn(\n",
      "/opt/anaconda3/lib/python3.9/site-packages/sklearn/neural_network/_multilayer_perceptron.py:692: ConvergenceWarning: Stochastic Optimizer: Maximum iterations (200) reached and the optimization hasn't converged yet.\n",
      "  warnings.warn(\n"
     ]
    },
    {
     "name": "stdout",
     "output_type": "stream",
     "text": [
      "R2 Score: 0.9685\n",
      "Mean Absolute Error (MAE): 0.39649786552572713\n",
      "Root Mean Squared Error (RMSE): 0.8834656637816597\n"
     ]
    },
    {
     "name": "stderr",
     "output_type": "stream",
     "text": [
      "/opt/anaconda3/lib/python3.9/site-packages/sklearn/neural_network/_multilayer_perceptron.py:692: ConvergenceWarning: Stochastic Optimizer: Maximum iterations (200) reached and the optimization hasn't converged yet.\n",
      "  warnings.warn(\n"
     ]
    }
   ],
   "source": [
    "print(\"------------ Bagging Results ------------\")\n",
    "from sklearn.ensemble import BaggingRegressor\n",
    "from sklearn.tree import DecisionTreeRegressor\n",
    "base_estimator = DecisionTreeRegressor()\n",
    "bag_pipe = make_pipeline(preprocessing.SplineTransformer(), BaggingRegressor(base_estimator=base_estimator, n_estimators=10, n_jobs=5))\n",
    "bag_pipe.fit(X_train, y_train)\n",
    "y_pred = bag_pipe.predict(X_test)\n",
    "stats(y_pred, y_test)\n",
    "\n",
    "print(\"------------ Stacking Results ------------\")\n",
    "from sklearn.ensemble import StackingRegressor\n",
    "model = StackingRegressor(estimators=[\n",
    "    ('bag', BaggingRegressor(n_jobs=5)),\n",
    "    ('n1', MLPRegressor(hidden_layer_sizes=(2,3), activation='relu')),\n",
    "    ('n2', MLPRegressor(hidden_layer_sizes=(3,2), activation='tanh'))\n",
    "])\n",
    "model.fit(X_train, y_train)\n",
    "y_pred = model.predict(X_test)\n",
    "stats(y_pred, y_test)"
   ]
  },
  {
   "cell_type": "code",
   "execution_count": 68,
   "metadata": {},
   "outputs": [
    {
     "name": "stdout",
     "output_type": "stream",
     "text": [
      "------------ Random Forest Results ------------\n",
      "R2 Score: 0.9569\n",
      "Mean Absolute Error (MAE): 0.4307499999999997\n",
      "Root Mean Squared Error (RMSE): 0.9556343405364125\n",
      "------------ Poly Regression Results ------------\n",
      "R2 Score: -15.9055\n",
      "Mean Absolute Error (MAE): 7.338743931632877\n",
      "Root Mean Squared Error (RMSE): 4.252534489605153\n",
      "------------ Decision Tree Results ------------\n",
      "R2 Score: 0.9635\n",
      "Mean Absolute Error (MAE): 0.42600000000000005\n",
      "Root Mean Squared Error (RMSE): 0.9166367799057946\n",
      "------------ XG Boost Results ------------\n",
      "R2 Score: 0.9636\n",
      "Mean Absolute Error (MAE): 0.3793288846448886\n",
      "Root Mean Squared Error (RMSE): 0.9162147306691887\n"
     ]
    }
   ],
   "source": [
    "print(\"------------ Random Forest Results ------------\")\n",
    "rf_regressor = make_pipeline(preprocessing.SplineTransformer(), RandomForestRegressor(n_estimators=24, max_depth=20))\n",
    "rf_regressor.fit(X_train, y_train)\n",
    "y_pred = rf_regressor.predict(X_test)\n",
    "stats(y_pred, y_test)\n",
    "\n",
    "print(\"------------ Decision Tree Results ------------\")\n",
    "from sklearn.tree import DecisionTreeRegressor\n",
    "d_tree = DecisionTreeRegressor(max_depth=24)\n",
    "d_tree.fit(X_train, y_train)\n",
    "y_pred = d_tree.predict(X_test)\n",
    "stats(y_pred, y_test)\n",
    "\n",
    "print(\"------------ XG Boost Results ------------\")\n",
    "from sklearn.ensemble import GradientBoostingRegressor\n",
    "xg_boost = GradientBoostingRegressor(learning_rate=0.1, loss='huber', max_depth=6, criterion='squared_error')\n",
    "xg_boost.fit(X_train, y_train)\n",
    "y_pred = xg_boost.predict(X_test)\n",
    "stats(y_pred, y_test)\n"
   ]
  },
  {
   "cell_type": "markdown",
   "metadata": {},
   "source": [
    "# Deep Learning"
   ]
  },
  {
   "cell_type": "code",
   "execution_count": null,
   "metadata": {},
   "outputs": [],
   "source": [
    "model = nn.Sequential(\n",
    "    nn.Linear(3, 16),\n",
    "    nn.CELU(),\n",
    "    nn.Linear(16, 16),\n",
    "    nn.CELU(),\n",
    "    nn.Linear(16, 4),\n",
    "    nn.CELU(),\n",
    "    nn.Linear(4, 1)\n",
    ")"
   ]
  },
  {
   "cell_type": "code",
   "execution_count": null,
   "metadata": {},
   "outputs": [],
   "source": [
    "class MyDataset(Dataset):\n",
    "    def __init__(self, dataframe):\n",
    "        self.numeric_columns = ['log_temperature_oc_global_light_energy_w_m2', 'log_ph_global_light_energy_w_m2', 'wdspd_m_s_airtemp_oc_ph']\n",
    "        self.transformer = preprocessing.QuantileTransformer()\n",
    "        transformed_data = self.transformer.fit_transform(dataframe[self.numeric_columns].values)\n",
    "        dataframe[self.numeric_columns] = transformed_data\n",
    "        self.data = dataframe.dropna(subset=['dissolved_oxygen_mg_l']).reset_index(drop=True)\n",
    "\n",
    "    def __len__(self):\n",
    "        return len(self.data)\n",
    "    \n",
    "    def getInverseTransform(self, inputs):\n",
    "        return self.quantile_transformer.inverse_transform(inputs)\n",
    "\n",
    "    def __getitem__(self, idx):\n",
    "        inputs = self.data[self.numeric_columns].iloc[idx].values.astype(np.float32)\n",
    "        label = self.data['dissolved_oxygen_mg_l'].iloc[idx].astype(np.float32)\n",
    "        inputs = torch.tensor(inputs)\n",
    "        label = torch.tensor(label)\n",
    "        return inputs, label\n"
   ]
  },
  {
   "cell_type": "code",
   "execution_count": null,
   "metadata": {},
   "outputs": [],
   "source": [
    "loss_fn = nn.SmoothL1Loss()\n",
    "optimizer = optim.Adam(model.parameters(), lr=0.0001, weight_decay=0.001)\n",
    "num_epochs = 10\n",
    "\n",
    "splitted = pd.read_csv(\"../datasets/Philly/new_features.csv\")\n",
    "test = splitted.copy(True)\n",
    "trainset, testset = train_test_split(test, test_size=0.1)\n",
    "\n",
    "data_loader = DataLoader(MyDataset(trainset), shuffle=True)\n",
    "\n",
    "# Training loop\n",
    "for epoch in range(num_epochs):\n",
    "    running_loss = 0.0\n",
    "    model.train()\n",
    "    for inputs, labels in data_loader:\n",
    "        optimizer.zero_grad()\n",
    "        outputs = model(inputs)\n",
    "        # Reshape labels to match the shape of outputs\n",
    "        labels = labels.view(outputs.shape)\n",
    "\n",
    "        loss = loss_fn(outputs , labels)\n",
    "        loss.backward()\n",
    "        optimizer.step()\n",
    "        running_loss += loss.item()\n",
    "    # Calculate average loss for the epoch\n",
    "    epoch_loss = running_loss / len(data_loader)\n",
    "    # Print the loss for each epoch\n",
    "    print(f\"Epoch {epoch+1}, Training Loss: {epoch_loss:.4f}\")\n",
    "# Training complete"
   ]
  },
  {
   "cell_type": "code",
   "execution_count": null,
   "metadata": {},
   "outputs": [],
   "source": [
    "# save weights\n",
    "torch.save(model.state_dict(), './weights/weights2.sav')\n",
    "model.load_state_dict(torch.load('./weights/weights2.sav'))\n",
    "\n",
    "# weights 1 : loss = 30.98\n",
    "# weights 2 : loss = 1.1218"
   ]
  },
  {
   "attachments": {},
   "cell_type": "markdown",
   "metadata": {},
   "source": [
    "# Deep Learning Evaluation"
   ]
  },
  {
   "cell_type": "code",
   "execution_count": null,
   "metadata": {},
   "outputs": [],
   "source": [
    "from sklearn.metrics import r2_score, mean_squared_error, mean_absolute_error\n",
    "import math\n",
    "\n",
    "# Set the model to evaluation mode\n",
    "model.eval()\n",
    "\n",
    "# Initialize lists to store true and predicted values\n",
    "y_test_all = []\n",
    "y_pred_all = []\n",
    "\n",
    "newset = pd.merge(ysi, weather, on='datetime').sample(1000)\n",
    "\n",
    "dataset = MyDataset(testset)\n",
    "data_loader = DataLoader(dataset)\n",
    "\n",
    "# Disable gradient calculation\n",
    "with torch.no_grad():\n",
    "    for inputs, label in data_loader:\n",
    "\n",
    "        # Forward pass to get predictions\n",
    "        y_pred = model(inputs)\n",
    "\n",
    "        # Convert the predictions and targets to numpy arrays\n",
    "        y_pred_np = y_pred.numpy()\n",
    "        label_np = label.numpy()\n",
    "        #print(dataset.quantile_transformer.inverse_transform(inputs.numpy()))\n",
    "        #print(f\"actual: { y_pred.item():3f} predicted: {label.item():3f}\")\n",
    "\n",
    "        # Append batch results to the overall lists\n",
    "        y_test_all.append(label_np)\n",
    "        y_pred_all.append(y_pred_np)\n",
    "\n",
    "# Concatenate the lists into a single array\n",
    "y_test_all = np.concatenate(y_test_all)\n",
    "y_pred_all = np.concatenate(y_pred_all)\n",
    "\n",
    "# Calculate the R2 score\n",
    "r2 = r2_score(y_test_all, y_pred_all)\n",
    "\n",
    "print(f\"R2 Score: {r2:.4f}\")\n",
    "# Calculate MAE\n",
    "mae = mean_absolute_error(y_test_all, y_pred_all)\n",
    "\n",
    "# Calculate RMSE\n",
    "mse = mean_squared_error(y_test_all, y_pred_all, squared=False)\n",
    "\n",
    "print(\"Mean Absolute Error (MAE):\", mae)\n",
    "print(\"Root Mean Squared Error (RMSE):\", math.sqrt(mse))"
   ]
  },
  {
   "attachments": {},
   "cell_type": "markdown",
   "metadata": {},
   "source": [
    "# Pre - Trained Models"
   ]
  },
  {
   "cell_type": "code",
   "execution_count": null,
   "metadata": {},
   "outputs": [],
   "source": [
    "play = nn.Sequential(\n",
    "    nn.Linear(4, 8),\n",
    "    nn.LeakyReLU(),\n",
    "    nn.Linear(8, 8),\n",
    "    nn.LeakyReLU(),\n",
    "    nn.Linear(8, 1)\n",
    ")\n",
    "\n",
    "play.load_state_dict(torch.load('weights.sav'))"
   ]
  },
  {
   "attachments": {},
   "cell_type": "markdown",
   "metadata": {},
   "source": [
    "# Save Weights"
   ]
  },
  {
   "cell_type": "code",
   "execution_count": null,
   "metadata": {},
   "outputs": [],
   "source": [
    "# Dictionary Approach \n",
    "\n",
    "model_dict = dict()\n",
    "model_dict['splineSVM'] = clf_rbf_nusvm_spline\n",
    "model_dict['quantileSVM'] = clf_rbf_svm_q\n",
    "model_dict['robustSVM'] = clf_rbf_nusvm_minmax\n",
    "model_dict['stackingSVM'] = clf_stack\n",
    "model_dict['bagging'] = bag_pipe"
   ]
  },
  {
   "cell_type": "code",
   "execution_count": 174,
   "metadata": {},
   "outputs": [
    {
     "name": "stdout",
     "output_type": "stream",
     "text": [
      "R2 Score: 0.9395\n",
      "Mean Absolute Error (MAE): 0.7414966517914219\n",
      "Root Mean Squared Error (RMSE): 1.1049055093927238\n"
     ]
    }
   ],
   "source": [
    "import tarfile\n",
    "import json\n",
    "import io\n",
    "\n",
    "# Save the trained model\n",
    "model_filename = './weights/do_svm_weighted.pkl'\n",
    "with open(model_filename, 'wb') as file:\n",
    "    pickle.dump(svm_weighted, file)\n",
    "\n",
    "# Load the saved model\n",
    "with open(model_filename, 'rb') as file:\n",
    "    loaded_model = pickle.load(file)\n",
    "\n",
    "y_pred = loaded_model.predict(X_test)\n",
    "stats(y_pred, y_test)\n",
    "\n",
    "# Specify the name of the pickle file and the .mar archive file\n",
    "mar_filename = 'model_archive.mar'\n",
    "\n",
    "# # Create a new tar archive\n",
    "# with tarfile.open(mar_filename, 'w') as archive:\n",
    "#     # Add the pickle file to the archive\n",
    "#     archive.add(model_filename)\n",
    "\n",
    "# # Create a manifest file with the required metadata\n",
    "# manifest = {'model-file': model_filename, 'model-name': 'RandomForestRegressor'}\n",
    "\n",
    "# # Add the manifest file to the archive\n",
    "# with tarfile.open(mar_filename, 'a') as archive:\n",
    "#     manifest_string = json.dumps(manifest)\n",
    "#     manifest_bytes = manifest_string.encode('utf-8')\n",
    "#     manifest_file = tarfile.TarInfo('MANIFEST')\n",
    "#     manifest_file.size = len(manifest_bytes)\n",
    "#     archive.addfile(manifest_file, io.BytesIO(manifest_bytes))\n"
   ]
  },
  {
   "attachments": {},
   "cell_type": "markdown",
   "metadata": {},
   "source": [
    "# Check performance on DB values"
   ]
  },
  {
   "cell_type": "code",
   "execution_count": 250,
   "metadata": {},
   "outputs": [
    {
     "name": "stderr",
     "output_type": "stream",
     "text": [
      "/opt/anaconda3/lib/python3.9/site-packages/pandas/io/sql.py:762: UserWarning: pandas only support SQLAlchemy connectable(engine/connection) ordatabase string URI or sqlite3 DBAPI2 connectionother DBAPI2 objects are not tested, please consider using SQLAlchemy\n",
      "  warnings.warn(\n"
     ]
    },
    {
     "data": {
      "text/plain": [
       "778"
      ]
     },
     "execution_count": 250,
     "metadata": {},
     "output_type": "execute_result"
    }
   ],
   "source": [
    "import pymysql\n",
    "\n",
    "# Connect to the database\n",
    "connection = pymysql.connect(\n",
    "    host='localhost', \n",
    "    user='root', \n",
    "    password='N@wid2003', \n",
    "    db='dma_iot_morefish_spark_farms_v3'\n",
    ")\n",
    "\n",
    "# Create a cursor object\n",
    "cursor = connection.cursor()\n",
    "\n",
    "# Get the latest data from the database and store it in a pandas dataframe\n",
    "query = \"SELECT dvd_ph, dvd_temp, dvd_updated_at, dvd_do FROM device_devicedata WHERE dvd_ph > 0 AND dvd_temp > 0 AND dvd_dev_id = 2 ORDER BY dvd_updated_at ASC\"\n",
    "df = pd.read_sql(query, connection)\n",
    "\n",
    "# Close the connection\n",
    "connection.close()\n",
    "len(df)"
   ]
  },
  {
   "cell_type": "code",
   "execution_count": 45,
   "metadata": {},
   "outputs": [],
   "source": [
    "df = pd.read_csv(\"../datasets/Sensor-predict/sparkfarms1-sandboxdo.csv\")"
   ]
  },
  {
   "cell_type": "code",
   "execution_count": 46,
   "metadata": {},
   "outputs": [],
   "source": [
    "df.rename(columns={'dvd_ph': 'ph', 'dvd_temp': 'temperature_oc', 'dvd_created_at': 'datetime', 'dvd_do': 'do_linreg'}, inplace=True)\n",
    "df['rounded_datetime'] = pd.to_datetime(df['datetime']).dt.round('H')\n",
    "df['datetime'] = pd.to_datetime(df['datetime'])\n",
    "# spark_weather = pd.read_csv(\"../../../../../../Downloads/sparkfarmsweather.csv\")\n",
    "spark_weather = pd.read_csv(\"../datasets/Sensor-predict/sparkfarmsweather.csv\")\n",
    "spark_weather['time'] = pd.to_datetime(spark_weather['time'])\n",
    "spark_weather.rename(columns={'time': 'datetime'}, inplace=True)\n",
    "# Merge the weather data with the main DataFrame based on 'rounded_datetime' column\n",
    "df = df.merge(spark_weather, left_on='rounded_datetime', right_on='datetime', how='left')\n",
    "df = df.drop(columns=['datetime_y'])\n",
    "df.rename(columns={'datetime_x': 'datetime', 'diffuse_radiation (W/m²)': 'global_light_energy_w_m2', 'relativehumidity_2m (%)': 'humid_rh', 'temperature_2m (°C)': 'airtemp_oc'}, inplace=True)\n",
    "# drop all NaN values inside diffuse radiation\n",
    "df = df.dropna(subset=['global_light_energy_w_m2'])"
   ]
  },
  {
   "cell_type": "code",
   "execution_count": 47,
   "metadata": {},
   "outputs": [
    {
     "data": {
      "text/plain": [
       "\"\\ny_test_all = []\\ny_pred_all = []\\n\\ndataset = MyDataset(x_train)\\ndata_loader = DataLoader(dataset)\\n\\n# Disable gradient calculation\\nwith torch.no_grad():\\n    for inputs, label in data_loader:\\n\\n        # Forward pass to get predictions\\n        y_pred = model(inputs)\\n\\n        # Convert the predictions and targets to numpy arrays\\n        y_pred_np = y_pred.numpy()\\n        y_pred_all.append(y_pred_np)\\n\\n# Concatenate the lists into a single array\\ny_pred_all = np.concatenate(y_pred_all)\\ndf['DeepNN'] = y_pred_all\\n\""
      ]
     },
     "execution_count": 47,
     "metadata": {},
     "output_type": "execute_result"
    }
   ],
   "source": [
    "x_train = pd.DataFrame()\n",
    "df['depth'] = 1.2192\n",
    "df['hour'] = pd.to_datetime(df['datetime']).dt.hour\n",
    "#df.loc[df['hour'] <= 12, 'hour'] = 12 - df.loc[df['hour'] <= 12, 'hour']\n",
    "#df.loc[df['hour'] > 12, 'hour'] = df.loc[df['hour'] > 12, 'hour'] - 12\n",
    "x_train = df[['global_light_energy_w_m2', 'ph', 'temperature_oc', 'humid_rh', 'airtemp_oc','depth', 'hour']]\n",
    "\n",
    "# test the neural net model and store its result in the pandas df\n",
    "'''\n",
    "y_test_all = []\n",
    "y_pred_all = []\n",
    "\n",
    "dataset = MyDataset(x_train)\n",
    "data_loader = DataLoader(dataset)\n",
    "\n",
    "# Disable gradient calculation\n",
    "with torch.no_grad():\n",
    "    for inputs, label in data_loader:\n",
    "\n",
    "        # Forward pass to get predictions\n",
    "        y_pred = model(inputs)\n",
    "\n",
    "        # Convert the predictions and targets to numpy arrays\n",
    "        y_pred_np = y_pred.numpy()\n",
    "        y_pred_all.append(y_pred_np)\n",
    "\n",
    "# Concatenate the lists into a single array\n",
    "y_pred_all = np.concatenate(y_pred_all)\n",
    "df['DeepNN'] = y_pred_all\n",
    "'''\n"
   ]
  },
  {
   "cell_type": "code",
   "execution_count": 95,
   "metadata": {},
   "outputs": [
    {
     "data": {
      "text/plain": [
       "Index(['datetime', 'ph', 'do_linreg', 'dvd_tds', 'temperature_oc',\n",
       "       'dvd_ammonia', 'rounded_datetime', 'airtemp_oc', 'humid_rh',\n",
       "       'global_light_energy_w_m2', 'depth', 'hour', 'Functional', 'Spline',\n",
       "       'weighted', 'Robust'],\n",
       "      dtype='object')"
      ]
     },
     "execution_count": 95,
     "metadata": {},
     "output_type": "execute_result"
    }
   ],
   "source": [
    "df.columns"
   ]
  },
  {
   "cell_type": "code",
   "execution_count": 58,
   "metadata": {},
   "outputs": [
    {
     "data": {
      "image/png": "[encoded data removed]",
      "text/plain": [
       "<Figure size 640x480 with 1 Axes>"
      ]
     },
     "metadata": {},
     "output_type": "display_data"
    }
   ],
   "source": [
    "import matplotlib.pyplot as plt\n",
    "from matplotlib.dates import DateFormatter\n",
    "\n",
    "y_pred = svm_robust.predict(x_train)\n",
    "df['Robust'] = y_pred\n",
    "\n",
    "#y_pred = ridgecv.predict(getWeightedAvg(x_train))\n",
    "#df['Functional'] = y_pred\n",
    "\n",
    "y_pred = svm_spline.predict(x_train)\n",
    "df['Spline'] = y_pred\n",
    "\n",
    "# y_pred = custom_stacking_predict(x_train, weights={'svm_spline': 5, 'svm_robust': 2, 'model': 3})\n",
    "# y_pred = svm_stack.predict(x_train)\n",
    "# df['clfstack'] = y_pred\n",
    "\n",
    "#y_pred = ridgecv.predict(mlp.predict(get_mlp_fitted(x_train)).reshape(-1, 1))\n",
    "#df['MLP_RidgeCV'] = y_pred\n",
    "\n",
    "# y_pred = ridgecv.predict(get_mlp_fitted(x_train))\n",
    "# df['RidgeCV'] = y_pred\n",
    "\n",
    "y_pred = ridgecv.predict(mlp.predict(get_mlp_fitted(x_train)).reshape(-1, 1))\n",
    "df['MLP+Ridge'] = y_pred\n",
    "\n",
    "y_pred = noCCpredict(x_train)\n",
    "df['current'] = y_pred\n",
    "\n",
    "\n",
    "fig, ax = plt.subplots()\n",
    "bet = df.loc[df['datetime'].between('2023-07-20', '2023-07-24')]\n",
    "\n",
    "# ax.plot(bet['datetime'], bet['current'].astype(float), 'ro')\n",
    "ax.plot(bet['datetime'], bet['MLP+Ridge'].astype(float), 'go')\n",
    "# ax.plot(bet['datetime'], bet['RidgeCV'].astype(float), 'bo')\n",
    "#ax.plot(bet['datetime'], bet['MLP_RidgeCV'].astype(float), 'yo')\n",
    "\n",
    "myFmt = DateFormatter(\"%m %d %H:%M\")\n",
    "ax.xaxis.set_major_formatter(myFmt)\n",
    "\n",
    "## Rotate date labels automatically\n",
    "fig.autofmt_xdate()\n",
    "plt.show()"
   ]
  },
  {
   "attachments": {},
   "cell_type": "markdown",
   "metadata": {},
   "source": [
    "# Local Data"
   ]
  },
  {
   "cell_type": "code",
   "execution_count": null,
   "metadata": {},
   "outputs": [],
   "source": [
    "bd_data = pd.read_csv(\"../datasets/GEMStat/India-Lake-2023-07-04_13-45/samples.csv\", sep=';')\n",
    "\n",
    "# Combine 'Date' and 'Time' columns into a single column\n",
    "bd_data['datetime'] = pd.to_datetime(bd_data['Date'] + ' ' + bd_data['Time'], format='%Y-%m-%d %H:%M')\n",
    "\n",
    "# Drop the original 'Date' and 'Time' columns if no longer needed\n",
    "bd_data.drop(['Date', 'Time'], axis=1, inplace=True)\n",
    "\n",
    "# Merge by datetime and LocationID\n",
    "new_bd_data = pd.DataFrame()\n",
    "new_bd_data[['LocationID','datetime', 'O2-Dis', ]] = bd_data[bd_data['Parameter'] == 'O2-Dis'][['LocationID', 'datetime','Value']]\n",
    "\n",
    "print(bd_data.columns)\n",
    "\n",
    "new_bd_data = pd.merge(new_bd_data, bd_data[bd_data['Parameter'] == 'pH'][['datetime', 'Value', 'LocationID']], on=['datetime', 'LocationID'], how='right')\n",
    "new_bd_data = pd.merge(new_bd_data, bd_data[bd_data['Parameter'] == 'TEMP'][['datetime', 'Value', \"LocationID\"]], on=['datetime','LocationID'], how='right')\n",
    "\n",
    "new_bd_data.rename(columns={'O2-Dis': 'dissolved_oxygen_mg_l', 'Value_x': 'ph', 'Value_y': 'temperature_oc'}, inplace=True)\n",
    "\n",
    "print(len(new_bd_data))\n",
    "new_bd_data.sample(10)"
   ]
  },
  {
   "cell_type": "code",
   "execution_count": 81,
   "metadata": {},
   "outputs": [
    {
     "data": {
      "image/png": "[encoded data removed]",
      "text/plain": [
       "<Figure size 640x480 with 1 Axes>"
      ]
     },
     "metadata": {},
     "output_type": "display_data"
    }
   ],
   "source": [
    "sandbox = pd.read_csv('../datasets/Sensor-predict/ccda4-sandboxdo.csv')\n",
    "sandbox['dvd_created_at'] = pd.to_datetime(sandbox['dvd_created_at'])\n",
    "\n",
    "# graph dvd_created_at vs dvd_do\n",
    "\n",
    "import matplotlib.pyplot as plt\n",
    "from matplotlib.dates import DateFormatter\n",
    "\n",
    "fig, ax = plt.subplots()\n",
    "bet = sandbox.loc[sandbox['dvd_created_at'].between('2023-07-29', '2023-08-02')]\n",
    "\n",
    "#ax.plot(bet['datetime'], bet['huber'].astype(float), 'bo')\n",
    "ax.plot(bet['dvd_created_at'], bet['dvd_do'].astype(float), 'ro')\n",
    "#ax.plot(bet['datetime'], (bet['global_light_energy_w_m2'].astype(float)/65 + 5), 'c')\n",
    "myFmt = DateFormatter(\"%m %d %H:%M\")\n",
    "ax.xaxis.set_major_formatter(myFmt)\n",
    "\n",
    "## Rotate date labels automatically\n",
    "fig.autofmt_xdate()\n",
    "plt.show()"
   ]
  },
  {
   "cell_type": "markdown",
   "metadata": {},
   "source": [
    "# Combine with Ammonia\n"
   ]
  },
  {
   "cell_type": "code",
   "execution_count": null,
   "metadata": {},
   "outputs": [],
   "source": [
    "from sklearn.ensemble import RandomForestClassifier\n",
    "\n",
    "cis = pd.read_csv(\"../datasets/upsampled_data.csv\")\n",
    "test = cis.copy(True)\n",
    "X_train,X_test,y_train,y_test = train_test_split(test[['DO_MGL','PH','precipitation (mm)','pressure_msl (hPa)', 'direct_radiation (W/m²)']], \n",
    "        test['decreaseFeed'], test_size=0.001)\n",
    "\n",
    "# Training\n",
    "clf = RandomForestClassifier(max_depth=40, criterion='gini', max_features='log2')\n",
    "clf.fit(X_train, y_train)"
   ]
  },
  {
   "cell_type": "code",
   "execution_count": null,
   "metadata": {},
   "outputs": [],
   "source": [
    "# Testing\n",
    "'''\n",
    "1. Remove outliers greater than 2 std devs on df\n",
    "2. Impute missing values with median\n",
    "3. Apply StandardScaler to DO, PH, pressure, direct radiation\n",
    "'''\n",
    "from sklearn.preprocessing import StandardScaler\n",
    "from sklearn.impute import SimpleImputer\n",
    "\n",
    "#imputer = SimpleImputer(strategy='median')\n",
    "#df = imputer.fit_transform(df)\n",
    "nh4_test = df.copy(True)\n",
    "scaler = StandardScaler()\n",
    "nh4_test[['RF', 'ph', 'pressure_msl (hPa)', 'direct_radiation (W/m²)']] = scaler.fit_transform(nh4_test[['RF', 'ph', 'pressure_msl (hPa)', 'direct_radiation (W/m²)']])\n",
    "\n",
    "amm_pred = clf.predict(nh4_test[['RF', 'ph', 'precipitation (mm)', 'pressure_msl (hPa)', 'direct_radiation (W/m²)']])\n",
    "df['ammonia'] = amm_pred\n",
    "\n"
   ]
  },
  {
   "cell_type": "code",
   "execution_count": null,
   "metadata": {},
   "outputs": [],
   "source": [
    "print(df.sample(10))\n",
    "df.to_csv('../datasets/ammonia_preds.csv', index=False)\n"
   ]
  }
 ],
 "metadata": {
  "kernelspec": {
   "display_name": "venv",
   "language": "python",
   "name": "python3"
  },
  "language_info": {
   "codemirror_mode": {
    "name": "ipython",
    "version": 3
   },
   "file_extension": ".py",
   "mimetype": "text/x-python",
   "name": "python",
   "nbconvert_exporter": "python",
   "pygments_lexer": "ipython3",
   "version": "3.9.13"
  },
  "orig_nbformat": 4
 },
 "nbformat": 4,
 "nbformat_minor": 2
}
